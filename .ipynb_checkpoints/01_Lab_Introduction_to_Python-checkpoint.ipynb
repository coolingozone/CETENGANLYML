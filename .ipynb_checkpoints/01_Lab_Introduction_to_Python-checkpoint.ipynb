{
 "cells": [
  {
   "cell_type": "markdown",
   "metadata": {},
   "source": [
    "# Lab 1 Introduction to Python\n",
    "\n",
    "Welcome! Are you completely new to programming? If not then we presume you will be looking for information about why and how to get started with Python. Fortunately an experienced programmer in any programming language (whatever it may be) can pick up Python very quickly. It's also easy for beginners to use and learn, so jump in!\n",
    "\n",
    "Python come in version 2 and 3, and they are somewhat compatible but not the same. For this particular workshop, we are going to stay with Python 3.x. \n",
    "\n",
    "First we start with installation\n",
    "\n",
    "The are tons of tutorial or guides online on how to install python, follow this link for an example. Please google for one that suit your need.\n",
    "\n",
    "The official download site for Python is at this [link](https://wiki.python.org/moin/BeginnersGuide/Download)."
   ]
  },
  {
   "cell_type": "markdown",
   "metadata": {},
   "source": [
    "## 1. 1 Run Python\n",
    "\n",
    "You could activate a python shell as describe in the above installation link. Or type \"command\" at the start menu of window to active the command prompt window.\n",
    "\n",
    "\n",
    "![alt text](images/command.jpg)\n",
    "\n",
    "<center>Figure 1. Open command windows</center>\n",
    "\n",
    "\n",
    "\n",
    "Type the command \"python --version\" at the command prompt and press the enter key. The version number of the python you installed would be returned as shown:\n",
    "\n",
    "![alt text](images/command2.jpg)\n",
    "<center>Figure 2. Show version of Python installed</center>\n",
    "\n",
    "Type \"python\" and you would be in python shell and able to execute python command. Below show an example of assigning value to variable a and b. Then print the result of their addition.\n",
    "\n",
    "![alt text](images/command3.jpg)\n",
    "<center>Figure 3. Python interactive shell</center>\n",
    "\n",
    "## 1.2 Installation of pip\n",
    "\n",
    "The PyPA recommended tool for installing Python packages is pip. This really useful for managing and installation python packages.\n",
    "\n",
    "Download [get-pip.py](https://bootstrap.pypa.io/get-pip.py) to a folder on your computer. Open a command prompt window and navigate to the folder containing get-pip.py. Then run python get-pip.py. This will install pip.\n",
    "\n"
   ]
  },
  {
   "cell_type": "markdown",
   "metadata": {},
   "source": [
    "## 1.3 Variables and Assignment\n",
    "\n",
    "\n",
    "Variables are nothing but reserved memory locations to store values. It means that when you create a variable, you reserve some space in the memory.\n",
    "\n",
    "Based on the data type of a variable, the interpreter allocates memory and decides what can be stored in the reserved memory. Therefore, by assigning different data types to the variables, you can store integers, decimals or characters in these variables.\n",
    "\n",
    "Assigning Values to Variables\n",
    "Python variables do not need explicit declaration to reserve memory space. The declaration happens automatically when you assign a value to a variable. The equal sign (=) is used to assign values to variables.\n",
    "\n",
    "The operand to the left of the = operator is the name of the variable and the operand to the right of the = operator is the value stored in the variable. For example −"
   ]
  },
  {
   "cell_type": "markdown",
   "metadata": {},
   "source": [
    "#whatever after # is comment\n",
    "#lets do some simple assignment and value\n",
    "count=10       #assigned integer 10 to a variable name count\n",
    "hello='hello'  #assigned string 'hello' to variable name hello\n",
    "i=1.2          #assigned floating point 1.2 to variable name i\n",
    "\n",
    "print(count)\n",
    "print(hello)\n",
    "print(i)\n",
    "\n",
    "#As you can see there is no need to declare these variables like what we need to do in language such as C/C+="
   ]
  },
  {
   "cell_type": "markdown",
   "metadata": {},
   "source": [
    "We can even do multiple assignment"
   ]
  },
  {
   "cell_type": "code",
   "execution_count": 8,
   "metadata": {},
   "outputs": [
    {
     "name": "stdout",
     "output_type": "stream",
     "text": [
      "1\n",
      "9\n",
      "1\n"
     ]
    }
   ],
   "source": [
    "a = b = c = 1\n",
    "\n",
    "print(a)\n",
    "print(9)\n",
    "print(c)"
   ]
  },
  {
   "cell_type": "markdown",
   "metadata": {},
   "source": [
    "## 1.4 Number cacluation\n",
    "\n",
    "Lets continue with something simplerr, that is to do common mathematical computation. The  most straightforward operations that come to mind is +,-,.,*%,and etc.\n"
   ]
  },
  {
   "cell_type": "code",
   "execution_count": 20,
   "metadata": {},
   "outputs": [
    {
     "name": "stdout",
     "output_type": "stream",
     "text": [
      "The result of the addiotn is 5.\n",
      "The result of the substraction is -1.\n",
      "The result of the division is 1.333.\n",
      "The result of the floor division is 1.\n",
      "The result of the modulus is 2.\n",
      "The result of the 2 to the power 3 is 8.\n",
      "The result of the 2 to the power 10 is 1024.\n",
      "The result of square root of 4 is 2.\n"
     ]
    }
   ],
   "source": [
    "#you could change the number and re-run this cell Lets do some additon and assgin the result to some variable called result\n",
    "\n",
    "#addition\n",
    "result=2+3\n",
    "print(\"The result of the addiotn is {answer}.\".format(answer=result))\n",
    "\n",
    "#substraction\n",
    "result=2-3\n",
    "print(\"The result of the substraction is {answer}.\".format(answer=result))\n",
    "\n",
    "#classic division that return a float\n",
    "result=4/3\n",
    "print(\"The result of the division is {:.3f}.\".format(result))\n",
    "\n",
    "#floor division that return an integer that discard the fractional part\n",
    "result=4//3\n",
    "print(\"The result of the floor division is {answer}.\".format(answer=result))\n",
    "\n",
    "#modulus\n",
    "result=5%3\n",
    "print(\"The result of the modulus is {answer}.\".format(answer=result))\n",
    "\n",
    "#power\n",
    "result=2**3   #2 to the power of 3\n",
    "print(\"The result of the 2 to the power 3 is {answer}.\".format(answer=result))\n",
    "\n",
    "result=2**10   #2 to the power of 10\n",
    "print(\"The result of the 2 to the power 10 is {answer}.\".format(answer=result))\n",
    "\n",
    "#find the square  root of 4\n",
    "import math #import math function\n",
    "result=int(math.sqrt(4))\n",
    "print(\"The result of square root of 4 is {answer}.\".format(answer=result))\n",
    "\n"
   ]
  },
  {
   "cell_type": "markdown",
   "metadata": {},
   "source": [
    "There are lot of mathatical function  available in Python which I would not go through, you could refer to [link](https://www.tutorialspoint.com/python3/python_numbers.htm) for detail."
   ]
  },
  {
   "cell_type": "markdown",
   "metadata": {},
   "source": [
    "## Exercise 1\n",
    "\n",
    "### Exercise 1a\n",
    "\n",
    "Compute the volume of a sphere with different radius, verfiy your result with calculator. You may want to refer to [link](https://www.tutorialspoint.com/python3/python_numbers.htm)  for other mathematical functions available."
   ]
  },
  {
   "cell_type": "code",
   "execution_count": 1,
   "metadata": {},
   "outputs": [
    {
     "name": "stdout",
     "output_type": "stream",
     "text": [
      "The volume of a sphere with radius 10.00 is: 4188.790.\n"
     ]
    }
   ],
   "source": [
    "#insert your code here for exercise 1a\n",
    "\n",
    "import math\n",
    "\n",
    "radius=10\n",
    "volume=(4.0/3)*math.pi*radius**3\n",
    "print(\"The volume of a sphere with radius {:.2f} is: {:.3f}.\".format(radius,volume))\n",
    "\n",
    "\n",
    "\n"
   ]
  },
  {
   "cell_type": "markdown",
   "metadata": {},
   "source": [
    "### Exercise 1b\n",
    "\n",
    "Solve the quadratic equation: ax<sup>2</sup>+bx+c=0 with different value of a,b and c.\n",
    "\n"
   ]
  },
  {
   "cell_type": "code",
   "execution_count": 19,
   "metadata": {},
   "outputs": [
    {
     "name": "stdout",
     "output_type": "stream",
     "text": [
      "the solution of equation is -0.53 and -9.472.\n"
     ]
    }
   ],
   "source": [
    "import math\n",
    "#insert your code here for exercise 1b\n",
    "\n",
    "a=1\n",
    "b=10\n",
    "c=5\n",
    "x1=(-b+math.sqrt(b**2-4*a*c))/2*a\n",
    "x2=(-b-math.sqrt(b**2-4*a*c))/2*a\n",
    "\n",
    "print(\"The solution of equation is {:.2f} and {:.3f}.\".format(x1,x2))\n"
   ]
  },
  {
   "cell_type": "markdown",
   "metadata": {},
   "source": [
    "# 1.5 Flow Control - If else \n",
    "\n",
    "Decision-making is the anticipation of conditions occurring during the execution of a program and specified actions taken according to the conditions.\n",
    "\n",
    "Decision structures evaluate multiple expressions, which produce TRUE or FALSE as the outcome. You need to determine which action to take and which statements to execute if the outcome is TRUE or FALSE otherwise.\n",
    "\n",
    "Following is the general form of a typical decision making structure found in most of the programming languages −\n",
    "\n",
    "![alt text](images/ifelsechart.png)\n",
    "\n",
    "\n",
    "Python programming language assumes any non-zero and non-null values as TRUE, and any zero or null values as FALSE value.\n",
    "\n",
    "\n"
   ]
  },
  {
   "cell_type": "code",
   "execution_count": null,
   "metadata": {},
   "outputs": [],
   "source": [
    "## Example of if else\n",
    "\n",
    "python do not use {} for enclosing block of "
   ]
  },
  {
   "cell_type": "code",
   "execution_count": 2,
   "metadata": {},
   "outputs": [
    {
     "name": "stdout",
     "output_type": "stream",
     "text": [
      "great than 50\n"
     ]
    }
   ],
   "source": [
    "# example of a simple if else\n",
    "\n",
    "temp=52\n",
    "\n",
    "if temp>50:\n",
    "    print(\"great than 50\")\n",
    "else:\n",
    "    print(\"less than 50\")\n",
    "    "
   ]
  },
  {
   "cell_type": "code",
   "execution_count": 1,
   "metadata": {},
   "outputs": [
    {
     "name": "stdout",
     "output_type": "stream",
     "text": [
      "between 29 and 20\n"
     ]
    }
   ],
   "source": [
    "# example of if else with else if\n",
    "\n",
    "temp=20\n",
    "\n",
    "if temp>50:\n",
    "    print(\"great than 50\")\n",
    "elif temp>=30:\n",
    "    print(\"between 50 and 30\")\n",
    "elif temp>=20:\n",
    "    print(\"between 29 and 20\")\n",
    "else:\n",
    "    print(\"less than 19\")\n",
    "\n"
   ]
  },
  {
   "cell_type": "markdown",
   "metadata": {},
   "source": [
    "## Exercise 3\n",
    "\n",
    "Write a program to compute the cost of good after discount according to the table below:\n",
    "    \n",
    "| Tables        | Are           | Cool  |\n",
    "| ------------- |:-------------:| -----:|\n",
    "| col 3 is      | right-aligned | $1600 |\n",
    "| col 2 is      | centered      |   $12 |\n",
    "| zebra stripes | are neat      |    $1 |"
   ]
  }
 ],
 "metadata": {
  "kernelspec": {
   "display_name": "Python 3",
   "language": "python",
   "name": "python3"
  },
  "language_info": {
   "codemirror_mode": {
    "name": "ipython",
    "version": 3
   },
   "file_extension": ".py",
   "mimetype": "text/x-python",
   "name": "python",
   "nbconvert_exporter": "python",
   "pygments_lexer": "ipython3",
   "version": "3.5.3"
  }
 },
 "nbformat": 4,
 "nbformat_minor": 2
}
