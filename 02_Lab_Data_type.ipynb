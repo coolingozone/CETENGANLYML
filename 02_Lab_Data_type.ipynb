{
 "cells": [
  {
   "cell_type": "markdown",
   "metadata": {},
   "source": [
    "# Python Data structure\n",
    "\n",
    "\n",
    "\n",
    "The most basic data structure in Python is the sequence. Each element of a sequence is assigned a number - its position or index. The first index is zero, the second index is one, and so forth.\n",
    "\n",
    "Python has six built-in types of sequences, but the most common ones are lists and tuples, which we would see in this tutorial.\n",
    "\n",
    "There are certain things you can do with all the sequence types. These operations include indexing, slicing, adding, multiplying, and checking for membership. In addition, Python has built-in functions for finding the length of a sequence and for finding its largest and smallest elements."
   ]
  },
  {
   "cell_type": "markdown",
   "metadata": {},
   "source": [
    "## 1 Python Lists\n",
    "\n",
    "The list is the most versatile datatype available in Python, which can be written as a list of comma-separated values (items) between square brackets. Important thing about a list is that the items in a list need not be of the same type.\n",
    "\n",
    "Creating a list is as simple as putting different comma-separated values between square brackets. "
   ]
  },
  {
   "cell_type": "code",
   "execution_count": 1,
   "metadata": {},
   "outputs": [
    {
     "name": "stdout",
     "output_type": "stream",
     "text": [
      "['hello', 'world', 'myfriend']\n",
      "[1, 2, 3, 4, 5, 6]\n",
      "['a', 'b', 'c', 'd']\n"
     ]
    }
   ],
   "source": [
    "#list creation\n",
    "\n",
    "list1=[\"hello\",\"world\",\"myfriend\"]\n",
    "list2=[1,2,3,4,5,6]\n",
    "list3=[\"a\",\"b\",\"c\",\"d\"]\n",
    "\n",
    "print(list1)\n",
    "print(list2)\n",
    "print(list3)\n",
    "\n"
   ]
  },
  {
   "cell_type": "markdown",
   "metadata": {},
   "source": [
    "## 2 Accessing values in List\n",
    "\n",
    "To access values in lists, use the square brackets for slicing along with the index or indices to obtain value available at that index. Please note that the index of list start from 0.\n"
   ]
  },
  {
   "cell_type": "code",
   "execution_count": 2,
   "metadata": {},
   "outputs": [
    {
     "name": "stdout",
     "output_type": "stream",
     "text": [
      "hello\n",
      "4\n",
      "c\n"
     ]
    }
   ],
   "source": [
    "#examples of access values in list\n",
    "print(list1[0])\n",
    "print(list2[3])\n",
    "print(list3[2])\n"
   ]
  },
  {
   "cell_type": "code",
   "execution_count": 3,
   "metadata": {},
   "outputs": [
    {
     "name": "stdout",
     "output_type": "stream",
     "text": [
      "['how', 'world', 'myfriend']\n",
      "[1, 2, 3, 10, 5, 6]\n",
      "['a', 'b', 'z', 'd']\n"
     ]
    }
   ],
   "source": [
    "#example to update the value of a particular element in the list\n",
    "\n",
    "list1[0]='how'\n",
    "list2[3]=10\n",
    "list3[2]='z'\n",
    "\n",
    "#print the  content of the three  lists\n",
    "#take note of respective element been updated\n",
    "\n",
    "print(list1)\n",
    "print(list2)\n",
    "print(list3)\n"
   ]
  },
  {
   "cell_type": "code",
   "execution_count": 4,
   "metadata": {},
   "outputs": [
    {
     "name": "stdout",
     "output_type": "stream",
     "text": [
      "list content before delete [2, 3, 4, 5, 6, 7]\n",
      "list content after delete [2, 4, 5, 6, 7]\n"
     ]
    }
   ],
   "source": [
    "#example of deleting element in a list\n",
    "\n",
    "list4=[2,3,4,5,6,7]\n",
    "print(\"list content before delete\",list4)\n",
    "del list4[1]\n",
    "print(\"list content after delete\",list4)"
   ]
  },
  {
   "cell_type": "markdown",
   "metadata": {},
   "source": [
    "## 3 Basic List  Operation\n",
    "\n",
    "Lists respond to the + and * operators much like strings; they mean concatenation and repetition here too, except that the result is a new list, not a string.\n",
    "\n",
    "In fact, lists respond to all of the general sequence operations we used on strings in the prior chapter."
   ]
  },
  {
   "cell_type": "code",
   "execution_count": 12,
   "metadata": {},
   "outputs": [
    {
     "name": "stdout",
     "output_type": "stream",
     "text": [
      "The lenght of the list is 6\n",
      "We could performation Concatenation of two lists with result [2, 3, 4, 5, 6, 7, 12, 13, 14]\n",
      "Reptition by * operator,result of list4*3 is  [2, 3, 4, 5, 6, 7, 2, 3, 4, 5, 6, 7, 2, 3, 4, 5, 6, 7]\n",
      "We could find whether a particular value is an member of a list by. Example if 3 is in list4 is  True\n",
      "We could find whether a particular value is an member of a list by. Example if 3 is in list5 is  False\n",
      "2 3 4 5 6 7 "
     ]
    }
   ],
   "source": [
    "#example of operation for List\n",
    "\n",
    "list4=[2,3,4,5,6,7]\n",
    "list5=[12,13,14]\n",
    "\n",
    "print(\"The lenght of the list is\",len(list4))\n",
    "print(\"We could performation Concatenation of two lists with result\",list4+list5)\n",
    "print(\"Reptition by * operator,result of list4*3 is \",list4*3)\n",
    "print(\"We could find whether a particular value is an member of a list by. Example if 3 is in list4 is \",2 in list4)\n",
    "print(\"We could find whether a particular value is an member of a list by. Example if 3 is in list5 is \",2 in list5)\n",
    "\n",
    "#iteration can be done by\n",
    "\n",
    "for x in list4 : print (x,end = ' ')  # print for every value in list4 with a space at the end\n",
    "\n"
   ]
  },
  {
   "cell_type": "code",
   "execution_count": 19,
   "metadata": {},
   "outputs": [
    {
     "name": "stdout",
     "output_type": "stream",
     "text": [
      "This\n",
      "Python\n",
      "['This', 'is']\n",
      "['is', 'Python']\n",
      "3\n",
      "14\n",
      "12\n"
     ]
    }
   ],
   "source": [
    "#slicing and other function which is similar to string\n",
    "\n",
    "list6=['This','is','Python']\n",
    "\n",
    "print(list6[0])   #zero based\n",
    "print(list6[-1])  #count from behind\n",
    "print(list6[:2])  #slicing from start to index 2 (exclude)\n",
    "print(list6[1:3]) #slicing from index 1 (inclusive) to 3 (exclusive)\n",
    "print(len(list6)) #lenght of list6\n",
    "print(max(list5)) #max value of list5\n",
    "print(min(list5)) #min value of list5\n",
    "\n",
    "\n",
    "\n"
   ]
  },
  {
   "cell_type": "markdown",
   "metadata": {},
   "source": [
    "## Exercise 1\n",
    "\n",
    "Write a function to compute the mean and standard deviation of a given list of number.\n",
    "\n"
   ]
  },
  {
   "cell_type": "code",
   "execution_count": 52,
   "metadata": {},
   "outputs": [
    {
     "name": "stdout",
     "output_type": "stream",
     "text": [
      "(5.5, 3.0276503540974917)\n",
      "Passed, correct answer\n"
     ]
    }
   ],
   "source": [
    "def com_value(inlist):\n",
    "    #your code start here\n",
    "    mean=sum(inlist)/len(inlist)\n",
    "    std=0.0\n",
    "    for x in inlist:\n",
    "        std=(x-mean)**2+std\n",
    "    std=math.sqrt(std/(len(inlist)-1))\n",
    "   \n",
    "    return mean,std\n",
    "    #end here\n",
    "    \n",
    "#test code, do not change anything here\n",
    "test1=[1.0,2.0,3.0,4.0,5.0,6.0,7.0,8.0,9.0,10.0]\n",
    "ans=com_value(test1)\n",
    "print(ans)\n",
    "if(ans[0]==5.5 and ans[1]==3.0276503540974917):\n",
    "    print(\"Passed, correct answer\")\n",
    "else:\n",
    "    print(\"Wrong, try harder\")\n",
    "\n",
    "\n",
    "\n"
   ]
  },
  {
   "cell_type": "markdown",
   "metadata": {},
   "source": [
    "## 4 List methods \n",
    "\n",
    "Below are a few commonly used Python list methods that are useful."
   ]
  },
  {
   "cell_type": "code",
   "execution_count": 65,
   "metadata": {},
   "outputs": [
    {
     "name": "stdout",
     "output_type": "stream",
     "text": [
      "Ojbect like is appended to the end of list7 reuslt in:  ['I', 'Love', 'Python', 'like']\n",
      "Append object mad in list7, result:  ['I', 'Love', 'Python', 'like', 'mad']\n",
      "The number of count mad occour in list 7 is:  1\n",
      "The lowest index of mad appear in list7 is:  4\n",
      "list with number from 0 to 5 [0, 1, 2, 3, 4, 5]\n",
      "Extended list7 contain:  ['I', 'Love', 'Python', 'like', 'mad', 0, 1, 2, 3, 4, 5]\n",
      "Content of list7 after Object hate is added:  ['I', 'hate', 'Love', 'Python', 'like', 'mad', 0, 1, 2, 3, 4, 5]\n",
      "Remove the oject Love from list7:  ['I', 'hate', 'Python', 'like', 'mad', 0, 1, 2, 3, 4, 5]\n",
      "Reversed list7 result:  [5, 4, 3, 2, 1, 0, 'mad', 'like', 'Python', 'hate', 'I']\n"
     ]
    }
   ],
   "source": [
    "#list methhods\n",
    "list7=['I','Love','Python']\n",
    "list7.append('like')  #append a new value to the list\n",
    "print('Object like is appended to the end of list7 reuslt in: ',list7)\n",
    "list7.append('mad')   #append another new  value to the list\n",
    "print('Append object mad in list7, result: ',list7)\n",
    "\n",
    "print('The number of count mad occour in list 7 is: ',list7.count('mad'))   #ount of how many times obj 'mad' occurs in list\n",
    "print('The lowest index of mad appear in list7 is: ',list7.index('mad'))\n",
    "\n",
    "list8=list(range(6))      #create a list of number from 0 to 5\n",
    "print('list with number from 0 to 5', list8)\n",
    "\n",
    "list7.extend(list8)     #extend list7 with list8\n",
    "print('Extended list7 contain: ',list7) #print the extended list7\n",
    "\n",
    "list7.insert(1,'hate')  #insert a new object 'hate' at index 1\n",
    "print('Content of list7 after Object hate is added: ', list7)\n",
    "\n",
    "list7.remove('Love')   #remove the object 'Love'\n",
    "print('Remove the oject Love from list7: ',list7)\n",
    "\n",
    "list7.reverse()   #reverse list 7\n",
    "print('Reversed list7 result: ',list7)\n",
    "\n"
   ]
  },
  {
   "cell_type": "markdown",
   "metadata": {},
   "source": [
    "## Exercise 2\n",
    "\n",
    "Write a function to compute do a words count of unique words provided in a list. The function should return a list of unique words and a list of corresponding count.\n",
    "\n"
   ]
  },
  {
   "cell_type": "code",
   "execution_count": 79,
   "metadata": {},
   "outputs": [
    {
     "name": "stdout",
     "output_type": "stream",
     "text": [
      "a\n",
      "ab\n",
      "c\n",
      "v\n",
      "['a', 'ab', 'c', 'v']\n",
      "[3, 2, 2, 1]\n"
     ]
    }
   ],
   "source": [
    "def word_count(nlist):\n",
    "    unique=[]\n",
    "    unique_count=[]\n",
    "    for x in nlist:\n",
    "        if x not in unique:\n",
    "            unique.append(x)\n",
    "   \n",
    "    for y in unique:\n",
    "        c=nlist.count(y)\n",
    "        print(y)\n",
    "        unique_count.append(c)\n",
    "    return unique,unique_count\n",
    "            \n",
    "test=['a','ab','a','c','ab','a','v','c']        \n",
    "q,q_count=word_count(test)\n",
    "print(q)\n",
    "print(q_count)\n",
    "    "
   ]
  },
  {
   "cell_type": "markdown",
   "metadata": {},
   "source": [
    "## 1.5 Python  Tuples\n",
    "\n",
    "A tuple is a sequence of immutable Python objects. Tuples are sequences, just like lists. The main difference between the tuples and the lists is that the tuples cannot be changed unlike lists. Tuples use parentheses, whereas lists use square brackets.\n"
   ]
  },
  {
   "cell_type": "code",
   "execution_count": 2,
   "metadata": {},
   "outputs": [
    {
     "name": "stdout",
     "output_type": "stream",
     "text": [
      "(1, 2, 3, 4, 5)\n",
      "('a', 'b', 'c', 'd')\n",
      "('electrical', 'digitial', 2007, 2018)\n",
      "()\n"
     ]
    }
   ],
   "source": [
    "#tuples creation\n",
    "\n",
    "tup1 = (1, 2, 3, 4, 5 )    #round  bracket is used to initialze tuples\n",
    "tup2 = \"a\", \"b\", \"c\", \"d\"  \n",
    "tup3 = ('electrical', 'digitial', 2007, 2018)  #tuples can have a mixed  type of content\n",
    "tup4=()    #a empty tuple\n",
    "\n",
    "print(tup1)  \n",
    "print(tup2)\n",
    "print(tup3)\n",
    "print(tup4)\n",
    "\n",
    "\n"
   ]
  },
  {
   "cell_type": "markdown",
   "metadata": {},
   "source": [
    "### Accessing Access Values in Tuples\n",
    "\n",
    "To access values in tuple, use the square brackets for slicing along with the index or indices to obtain the value available at that index."
   ]
  },
  {
   "cell_type": "code",
   "execution_count": 3,
   "metadata": {},
   "outputs": [
    {
     "name": "stdout",
     "output_type": "stream",
     "text": [
      "5\n",
      "('a', 'b', 'c')\n",
      "('digitial', 2007, 2018)\n"
     ]
    }
   ],
   "source": [
    "#access value in tuples please make sure that the previous code cell is run before running this one\n",
    "\n",
    "print(tup1[4])\n",
    "print(tup2[:3])\n",
    "print(tup3[1:])"
   ]
  },
  {
   "cell_type": "markdown",
   "metadata": {},
   "source": [
    "### Updating Tuples\n",
    "\n",
    "Tuples are immutable, which means you cannot update or change the values of tuple elements. You are able to take portions of the existing tuples to create new tuples "
   ]
  },
  {
   "cell_type": "code",
   "execution_count": 7,
   "metadata": {},
   "outputs": [
    {
     "name": "stdout",
     "output_type": "stream",
     "text": [
      "(3, 4, 5, 'electrical', 'digitial', 2007)\n"
     ]
    }
   ],
   "source": [
    "#tup1[0]=2 #this command would give us error\n",
    "\n",
    "tup5=tup1[2:]+tup3[:3]\n",
    "\n",
    "print(tup5)"
   ]
  }
 ],
 "metadata": {
  "kernelspec": {
   "display_name": "Python 3",
   "language": "python",
   "name": "python3"
  },
  "language_info": {
   "codemirror_mode": {
    "name": "ipython",
    "version": 3
   },
   "file_extension": ".py",
   "mimetype": "text/x-python",
   "name": "python",
   "nbconvert_exporter": "python",
   "pygments_lexer": "ipython3",
   "version": "3.5.3"
  }
 },
 "nbformat": 4,
 "nbformat_minor": 2
}
