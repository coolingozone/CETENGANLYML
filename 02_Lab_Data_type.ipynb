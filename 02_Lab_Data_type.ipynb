{
 "cells": [
  {
   "cell_type": "markdown",
   "metadata": {},
   "source": [
    "# Python Data structure\n",
    "\n",
    "\n",
    "\n",
    "The most basic data structure in Python is the sequence. Each element of a sequence is assigned a number - its position or index. The first index is zero, the second index is one, and so forth.\n",
    "\n",
    "Python has six built-in types of sequences, but the most common ones are lists and tuples, which we would see in this tutorial.\n",
    "\n",
    "There are certain things you can do with all the sequence types. These operations include indexing, slicing, adding, multiplying, and checking for membership. In addition, Python has built-in functions for finding the length of a sequence and for finding its largest and smallest elements."
   ]
  },
  {
   "cell_type": "markdown",
   "metadata": {},
   "source": [
    "## Python Lists\n",
    "\n",
    "The list is the most versatile datatype available in Python, which can be written as a list of comma-separated values (items) between square brackets. Important thing about a list is that the items in a list need not be of the same type.\n",
    "\n",
    "Creating a list is as simple as putting different comma-separated values between square brackets. "
   ]
  },
  {
   "cell_type": "code",
   "execution_count": 32,
   "metadata": {},
   "outputs": [
    {
     "name": "stdout",
     "output_type": "stream",
     "text": [
      "['hello', 'world', 'myfriend']\n",
      "[1, 2, 3, 4, 5, 6]\n",
      "['a', 'b', 'c', 'd']\n"
     ]
    }
   ],
   "source": [
    "#list creation\n",
    "\n",
    "list1=[\"hello\",\"world\",\"myfriend\"]\n",
    "list2=[1,2,3,4,5,6]\n",
    "list3=[\"a\",\"b\",\"c\",\"d\"]\n",
    "\n",
    "print(list1)\n",
    "print(list2)\n",
    "print(list3)\n",
    "\n"
   ]
  },
  {
   "cell_type": "markdown",
   "metadata": {},
   "source": [
    "## Accessing values in List\n",
    "\n",
    "To access values in lists, use the square brackets for slicing along with the index or indices to obtain value available at that index. Please note that the index of list start from 0.\n"
   ]
  },
  {
   "cell_type": "code",
   "execution_count": 33,
   "metadata": {},
   "outputs": [
    {
     "name": "stdout",
     "output_type": "stream",
     "text": [
      "hello\n",
      "4\n",
      "c\n"
     ]
    }
   ],
   "source": [
    "#examples of access values in list\n",
    "print(list1[0])\n",
    "print(list2[3])\n",
    "print(list3[2])\n"
   ]
  },
  {
   "cell_type": "code",
   "execution_count": 34,
   "metadata": {},
   "outputs": [
    {
     "name": "stdout",
     "output_type": "stream",
     "text": [
      "['how', 'world', 'myfriend']\n",
      "[1, 2, 3, 10, 5, 6]\n",
      "['a', 'b', 'z', 'd']\n"
     ]
    }
   ],
   "source": [
    "#example to update the value of a particular element in the list\n",
    "\n",
    "list1[0]='how'\n",
    "list2[3]=10\n",
    "list3[2]='z'\n",
    "\n",
    "#print the  content of the three  lists\n",
    "#take note of respective element been updated\n",
    "\n",
    "print(list1)\n",
    "print(list2)\n",
    "print(list3)\n"
   ]
  },
  {
   "cell_type": "code",
   "execution_count": 35,
   "metadata": {},
   "outputs": [
    {
     "name": "stdout",
     "output_type": "stream",
     "text": [
      "list content before delete [2, 3, 4, 5, 6, 7]\n",
      "list content after delete [2, 4, 5, 6, 7]\n"
     ]
    }
   ],
   "source": [
    "#example of deleting element in a list\n",
    "\n",
    "list4=[2,3,4,5,6,7]\n",
    "print(\"list content before delete\",list4)\n",
    "del list4[1]\n",
    "print(\"list content after delete\",list4)"
   ]
  },
  {
   "cell_type": "markdown",
   "metadata": {},
   "source": [
    "## Basic List  Operation\n",
    "\n",
    "Lists respond to the + and * operators much like strings; they mean concatenation and repetition here too, except that the result is a new list, not a string.\n",
    "\n",
    "In fact, lists respond to all of the general sequence operations we used on strings in the prior chapter."
   ]
  },
  {
   "cell_type": "code",
   "execution_count": 36,
   "metadata": {},
   "outputs": [
    {
     "name": "stdout",
     "output_type": "stream",
     "text": [
      "The lenght of the list is 6\n",
      "We could performation Concatenation of two lists with result [2, 3, 4, 5, 6, 7, 12, 13, 14]\n",
      "Reptition by * operator,result of list4*3 is  [2, 3, 4, 5, 6, 7, 2, 3, 4, 5, 6, 7, 2, 3, 4, 5, 6, 7]\n",
      "We could find whether a particular value is an member of a list by. Example if 3 is in list4 is  True\n",
      "We could find whether a particular value is an member of a list by. Example if 3 is in list5 is  False\n",
      "2 3 4 5 6 7 "
     ]
    }
   ],
   "source": [
    "#example of operation for List\n",
    "\n",
    "list4=[2,3,4,5,6,7]\n",
    "list5=[12,13,14]\n",
    "\n",
    "print(\"The lenght of the list is\",len(list4))\n",
    "print(\"We could performation Concatenation of two lists with result\",list4+list5)\n",
    "print(\"Reptition by * operator,result of list4*3 is \",list4*3)\n",
    "print(\"We could find whether a particular value is an member of a list by. Example if 3 is in list4 is \",2 in list4)\n",
    "print(\"We could find whether a particular value is an member of a list by. Example if 3 is in list5 is \",2 in list5)\n",
    "\n",
    "#iteration can be done by\n",
    "\n",
    "for x in list4 : print (x,end = ' ')  # print for every value in list4 with a space at the end\n",
    "\n"
   ]
  }
 ],
 "metadata": {
  "kernelspec": {
   "display_name": "Python 3",
   "language": "python",
   "name": "python3"
  },
  "language_info": {
   "codemirror_mode": {
    "name": "ipython",
    "version": 3
   },
   "file_extension": ".py",
   "mimetype": "text/x-python",
   "name": "python",
   "nbconvert_exporter": "python",
   "pygments_lexer": "ipython3",
   "version": "3.5.3"
  }
 },
 "nbformat": 4,
 "nbformat_minor": 2
}
